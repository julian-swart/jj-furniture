{
 "cells": [
  {
   "cell_type": "markdown",
   "metadata": {},
   "source": [
    "# Create Fake Customers Data"
   ]
  },
  {
   "cell_type": "raw",
   "metadata": {},
   "source": [
    "!pip install faker"
   ]
  },
  {
   "cell_type": "code",
   "execution_count": 1,
   "metadata": {
    "collapsed": false
   },
   "outputs": [],
   "source": [
    "import pandas as pd\n",
    "import numpy as np\n",
    "from faker import Faker\n",
    "from sqlalchemy import create_engine\n",
    "#import sql_queries as sql\n",
    "import configparser\n",
    "import sys \n",
    "import os"
   ]
  },
  {
   "cell_type": "code",
   "execution_count": 2,
   "metadata": {
    "collapsed": false
   },
   "outputs": [],
   "source": [
    "script_dir = os.path.abspath('')\n",
    "mymodule_dir = os.path.join( script_dir, '..', '..', 'database', 'table_setup' )\n",
    "sys.path.append( mymodule_dir )\n",
    "\n",
    "import sql_queries"
   ]
  },
  {
   "cell_type": "code",
   "execution_count": 3,
   "metadata": {
    "collapsed": false
   },
   "outputs": [],
   "source": [
    "# =============================================================================\n",
    "# ### SQL CONNECTION\n",
    "# =============================================================================\n",
    "encoding = 'utf-16'\n",
    "\n",
    "config_file_path = os.path.join( script_dir, '..', '..', 'database', 'connection' )\n",
    "config_file_path += '/config.ini'\n",
    "config = configparser.ConfigParser()\n",
    "config.read(config_file_path, encoding = encoding)\n",
    "\n",
    "HOST=config.get('jj_furniture','host')\n",
    "USER=config.get('jj_furniture','user')   \n",
    "PASSWORD=config.get('jj_furniture','password')\n",
    "DATABASE=config.get('jj_furniture','database')\n",
    "\n",
    "try:\n",
    "    db_conn_string = 'postgres://{}:{}@{}/{}'.format(USER,PASSWORD,HOST,DATABASE)\n",
    "    db_engine = create_engine(db_conn_string)\n",
    "\n",
    "except Exception as e:\n",
    "    print(e)\n",
    "    \n",
    "   "
   ]
  },
  {
   "cell_type": "code",
   "execution_count": 4,
   "metadata": {
    "collapsed": true
   },
   "outputs": [],
   "source": [
    "fake = Faker()"
   ]
  },
  {
   "cell_type": "code",
   "execution_count": 5,
   "metadata": {
    "collapsed": true
   },
   "outputs": [],
   "source": [
    "store_type = ['Store', 'Web']\n",
    "\n",
    "customers = [\n",
    "    {'customer_id': x+1,\n",
    "     'first_name': fake.first_name(),\n",
    "     'last_name': fake.last_name(),\n",
    "     'email_address': fake.email(),\n",
    "     'dob': fake.date_between(start_date='-70y', end_date='-18y'),\n",
    "     'gender': fake.profile()['sex'],\n",
    "     'street_address': fake.street_address(),\n",
    "     'state': fake.random_element(elements = ('NC', 'SC', 'TN', 'FL', 'GA', 'MS', 'AL')),\n",
    "     'date_created': fake.date_between(start_date='-12y'),\n",
    "     'create_source': np.random.choice(store_type, p = [.8, .2]) # can give probability of selection to Store Type\n",
    "    }\n",
    "    for x in range(1000)]\n"
   ]
  },
  {
   "cell_type": "code",
   "execution_count": 6,
   "metadata": {
    "collapsed": true
   },
   "outputs": [],
   "source": [
    "df_customers = pd.DataFrame(customers)"
   ]
  },
  {
   "cell_type": "code",
   "execution_count": 7,
   "metadata": {
    "collapsed": false
   },
   "outputs": [
    {
     "data": {
      "text/html": [
       "<div>\n",
       "<table border=\"1\" class=\"dataframe\">\n",
       "  <thead>\n",
       "    <tr style=\"text-align: right;\">\n",
       "      <th></th>\n",
       "      <th>create_source</th>\n",
       "      <th>customer_id</th>\n",
       "      <th>date_created</th>\n",
       "      <th>dob</th>\n",
       "      <th>email_address</th>\n",
       "      <th>first_name</th>\n",
       "      <th>gender</th>\n",
       "      <th>last_name</th>\n",
       "      <th>state</th>\n",
       "      <th>street_address</th>\n",
       "    </tr>\n",
       "  </thead>\n",
       "  <tbody>\n",
       "    <tr>\n",
       "      <th>0</th>\n",
       "      <td>Store</td>\n",
       "      <td>1</td>\n",
       "      <td>2016-03-30</td>\n",
       "      <td>1959-09-12</td>\n",
       "      <td>bgarrett@example.com</td>\n",
       "      <td>Leah</td>\n",
       "      <td>F</td>\n",
       "      <td>Gray</td>\n",
       "      <td>TN</td>\n",
       "      <td>7558 Arroyo Drive Suite 137</td>\n",
       "    </tr>\n",
       "    <tr>\n",
       "      <th>1</th>\n",
       "      <td>Store</td>\n",
       "      <td>2</td>\n",
       "      <td>2012-06-17</td>\n",
       "      <td>1975-01-14</td>\n",
       "      <td>cherylallen@example.net</td>\n",
       "      <td>Pamela</td>\n",
       "      <td>M</td>\n",
       "      <td>Nelson</td>\n",
       "      <td>AL</td>\n",
       "      <td>9033 Madison Pass Suite 683</td>\n",
       "    </tr>\n",
       "    <tr>\n",
       "      <th>2</th>\n",
       "      <td>Store</td>\n",
       "      <td>3</td>\n",
       "      <td>2017-12-10</td>\n",
       "      <td>1953-10-20</td>\n",
       "      <td>samuelreilly@example.org</td>\n",
       "      <td>Tiffany</td>\n",
       "      <td>M</td>\n",
       "      <td>Smith</td>\n",
       "      <td>AL</td>\n",
       "      <td>1740 Mary Landing Suite 843</td>\n",
       "    </tr>\n",
       "    <tr>\n",
       "      <th>3</th>\n",
       "      <td>Web</td>\n",
       "      <td>4</td>\n",
       "      <td>2014-09-19</td>\n",
       "      <td>1956-04-30</td>\n",
       "      <td>rebeccaoliver@example.com</td>\n",
       "      <td>Daniel</td>\n",
       "      <td>F</td>\n",
       "      <td>Fuentes</td>\n",
       "      <td>GA</td>\n",
       "      <td>35326 Adam Keys Suite 408</td>\n",
       "    </tr>\n",
       "    <tr>\n",
       "      <th>4</th>\n",
       "      <td>Web</td>\n",
       "      <td>5</td>\n",
       "      <td>2010-07-28</td>\n",
       "      <td>1977-10-06</td>\n",
       "      <td>zsmith@example.com</td>\n",
       "      <td>Miranda</td>\n",
       "      <td>M</td>\n",
       "      <td>Alexander</td>\n",
       "      <td>GA</td>\n",
       "      <td>398 Lang Fork Suite 730</td>\n",
       "    </tr>\n",
       "  </tbody>\n",
       "</table>\n",
       "</div>"
      ],
      "text/plain": [
       "  create_source  customer_id date_created         dob  \\\n",
       "0         Store            1   2016-03-30  1959-09-12   \n",
       "1         Store            2   2012-06-17  1975-01-14   \n",
       "2         Store            3   2017-12-10  1953-10-20   \n",
       "3           Web            4   2014-09-19  1956-04-30   \n",
       "4           Web            5   2010-07-28  1977-10-06   \n",
       "\n",
       "               email_address first_name gender  last_name state  \\\n",
       "0       bgarrett@example.com       Leah      F       Gray    TN   \n",
       "1    cherylallen@example.net     Pamela      M     Nelson    AL   \n",
       "2   samuelreilly@example.org    Tiffany      M      Smith    AL   \n",
       "3  rebeccaoliver@example.com     Daniel      F    Fuentes    GA   \n",
       "4         zsmith@example.com    Miranda      M  Alexander    GA   \n",
       "\n",
       "                street_address  \n",
       "0  7558 Arroyo Drive Suite 137  \n",
       "1  9033 Madison Pass Suite 683  \n",
       "2  1740 Mary Landing Suite 843  \n",
       "3    35326 Adam Keys Suite 408  \n",
       "4      398 Lang Fork Suite 730  "
      ]
     },
     "execution_count": 7,
     "metadata": {},
     "output_type": "execute_result"
    }
   ],
   "source": [
    "df_customers.head() # rfor some reason, this isn't preserving the order from the dictionary above "
   ]
  },
  {
   "cell_type": "code",
   "execution_count": 8,
   "metadata": {
    "collapsed": false
   },
   "outputs": [
    {
     "name": "stdout",
     "output_type": "stream",
     "text": [
      "\n",
      "INSERT INTO customers (customer_id, first_name, last_name, email_address, dob, gender, street_address, state, date_created, create_source)\n",
      "VALUES (%s, %s, %s, %s, %s, %s, %s, %s, %s, %s)\n",
      "\n"
     ]
    }
   ],
   "source": [
    "print(sql_queries.insert_customer_table)"
   ]
  },
  {
   "cell_type": "code",
   "execution_count": 9,
   "metadata": {
    "collapsed": false
   },
   "outputs": [
    {
     "name": "stdout",
     "output_type": "stream",
     "text": [
      "0\n"
     ]
    }
   ],
   "source": [
    "### insert customer records\n",
    "for i, row in df_customers.iterrows():\n",
    "    if i % 100 == 0:\n",
    "        print(i)\n",
    "    db_engine.execute(sql_queries.insert_customer_table, \n",
    "                        (row['customer_id'],\n",
    "                        row['first_name'],\n",
    "                        row['last_name'],\n",
    "                        row['email_address'],\n",
    "                        row['dob'],\n",
    "                        row['gender'],\n",
    "                        row['street_address'],\n",
    "                        row['state'],\n",
    "                        row['date_created'],\n",
    "                        row['create_source']))"
   ]
  },
  {
   "cell_type": "code",
   "execution_count": null,
   "metadata": {
    "collapsed": true
   },
   "outputs": [],
   "source": []
  },
  {
   "cell_type": "code",
   "execution_count": null,
   "metadata": {
    "collapsed": true
   },
   "outputs": [],
   "source": []
  },
  {
   "cell_type": "code",
   "execution_count": null,
   "metadata": {
    "collapsed": true
   },
   "outputs": [],
   "source": []
  },
  {
   "cell_type": "code",
   "execution_count": null,
   "metadata": {
    "collapsed": true
   },
   "outputs": [],
   "source": []
  },
  {
   "cell_type": "code",
   "execution_count": null,
   "metadata": {
    "collapsed": true
   },
   "outputs": [],
   "source": []
  },
  {
   "cell_type": "code",
   "execution_count": null,
   "metadata": {
    "collapsed": true
   },
   "outputs": [],
   "source": []
  },
  {
   "cell_type": "code",
   "execution_count": null,
   "metadata": {
    "collapsed": true
   },
   "outputs": [],
   "source": []
  },
  {
   "cell_type": "code",
   "execution_count": null,
   "metadata": {
    "collapsed": true
   },
   "outputs": [],
   "source": []
  },
  {
   "cell_type": "code",
   "execution_count": null,
   "metadata": {
    "collapsed": true
   },
   "outputs": [],
   "source": []
  },
  {
   "cell_type": "code",
   "execution_count": null,
   "metadata": {
    "collapsed": true
   },
   "outputs": [],
   "source": []
  },
  {
   "cell_type": "code",
   "execution_count": null,
   "metadata": {
    "collapsed": true
   },
   "outputs": [],
   "source": []
  },
  {
   "cell_type": "code",
   "execution_count": null,
   "metadata": {
    "collapsed": true
   },
   "outputs": [],
   "source": []
  },
  {
   "cell_type": "code",
   "execution_count": null,
   "metadata": {
    "collapsed": true
   },
   "outputs": [],
   "source": []
  },
  {
   "cell_type": "code",
   "execution_count": null,
   "metadata": {
    "collapsed": true
   },
   "outputs": [],
   "source": []
  },
  {
   "cell_type": "code",
   "execution_count": null,
   "metadata": {
    "collapsed": true
   },
   "outputs": [],
   "source": []
  },
  {
   "cell_type": "code",
   "execution_count": null,
   "metadata": {
    "collapsed": true
   },
   "outputs": [],
   "source": []
  },
  {
   "cell_type": "code",
   "execution_count": null,
   "metadata": {
    "collapsed": true
   },
   "outputs": [],
   "source": []
  },
  {
   "cell_type": "code",
   "execution_count": null,
   "metadata": {
    "collapsed": true
   },
   "outputs": [],
   "source": []
  },
  {
   "cell_type": "code",
   "execution_count": null,
   "metadata": {
    "collapsed": true
   },
   "outputs": [],
   "source": []
  },
  {
   "cell_type": "code",
   "execution_count": null,
   "metadata": {
    "collapsed": true
   },
   "outputs": [],
   "source": []
  },
  {
   "cell_type": "code",
   "execution_count": null,
   "metadata": {
    "collapsed": true
   },
   "outputs": [],
   "source": []
  },
  {
   "cell_type": "code",
   "execution_count": null,
   "metadata": {
    "collapsed": true
   },
   "outputs": [],
   "source": []
  },
  {
   "cell_type": "code",
   "execution_count": null,
   "metadata": {
    "collapsed": true
   },
   "outputs": [],
   "source": []
  },
  {
   "cell_type": "code",
   "execution_count": null,
   "metadata": {
    "collapsed": true
   },
   "outputs": [],
   "source": []
  },
  {
   "cell_type": "code",
   "execution_count": null,
   "metadata": {
    "collapsed": true
   },
   "outputs": [],
   "source": []
  },
  {
   "cell_type": "code",
   "execution_count": null,
   "metadata": {
    "collapsed": true
   },
   "outputs": [],
   "source": []
  },
  {
   "cell_type": "code",
   "execution_count": null,
   "metadata": {
    "collapsed": true
   },
   "outputs": [],
   "source": []
  },
  {
   "cell_type": "code",
   "execution_count": null,
   "metadata": {
    "collapsed": true
   },
   "outputs": [],
   "source": []
  },
  {
   "cell_type": "code",
   "execution_count": null,
   "metadata": {
    "collapsed": true
   },
   "outputs": [],
   "source": []
  },
  {
   "cell_type": "code",
   "execution_count": null,
   "metadata": {
    "collapsed": true
   },
   "outputs": [],
   "source": []
  },
  {
   "cell_type": "code",
   "execution_count": null,
   "metadata": {
    "collapsed": true
   },
   "outputs": [],
   "source": []
  },
  {
   "cell_type": "code",
   "execution_count": null,
   "metadata": {
    "collapsed": true
   },
   "outputs": [],
   "source": []
  },
  {
   "cell_type": "code",
   "execution_count": null,
   "metadata": {
    "collapsed": true
   },
   "outputs": [],
   "source": []
  },
  {
   "cell_type": "code",
   "execution_count": null,
   "metadata": {
    "collapsed": true
   },
   "outputs": [],
   "source": []
  },
  {
   "cell_type": "code",
   "execution_count": null,
   "metadata": {
    "collapsed": true
   },
   "outputs": [],
   "source": []
  },
  {
   "cell_type": "code",
   "execution_count": null,
   "metadata": {
    "collapsed": true
   },
   "outputs": [],
   "source": []
  },
  {
   "cell_type": "code",
   "execution_count": null,
   "metadata": {
    "collapsed": true
   },
   "outputs": [],
   "source": []
  },
  {
   "cell_type": "code",
   "execution_count": null,
   "metadata": {
    "collapsed": true
   },
   "outputs": [],
   "source": []
  },
  {
   "cell_type": "code",
   "execution_count": null,
   "metadata": {
    "collapsed": true
   },
   "outputs": [],
   "source": []
  },
  {
   "cell_type": "code",
   "execution_count": null,
   "metadata": {
    "collapsed": true
   },
   "outputs": [],
   "source": []
  },
  {
   "cell_type": "code",
   "execution_count": null,
   "metadata": {
    "collapsed": true
   },
   "outputs": [],
   "source": []
  },
  {
   "cell_type": "code",
   "execution_count": null,
   "metadata": {
    "collapsed": true
   },
   "outputs": [],
   "source": []
  },
  {
   "cell_type": "code",
   "execution_count": null,
   "metadata": {
    "collapsed": true
   },
   "outputs": [],
   "source": []
  },
  {
   "cell_type": "code",
   "execution_count": null,
   "metadata": {
    "collapsed": true
   },
   "outputs": [],
   "source": []
  },
  {
   "cell_type": "code",
   "execution_count": null,
   "metadata": {
    "collapsed": true
   },
   "outputs": [],
   "source": []
  },
  {
   "cell_type": "code",
   "execution_count": null,
   "metadata": {
    "collapsed": true
   },
   "outputs": [],
   "source": []
  },
  {
   "cell_type": "code",
   "execution_count": null,
   "metadata": {
    "collapsed": true
   },
   "outputs": [],
   "source": []
  },
  {
   "cell_type": "code",
   "execution_count": null,
   "metadata": {
    "collapsed": true
   },
   "outputs": [],
   "source": []
  },
  {
   "cell_type": "code",
   "execution_count": null,
   "metadata": {
    "collapsed": true
   },
   "outputs": [],
   "source": []
  },
  {
   "cell_type": "code",
   "execution_count": null,
   "metadata": {
    "collapsed": true
   },
   "outputs": [],
   "source": []
  },
  {
   "cell_type": "code",
   "execution_count": null,
   "metadata": {
    "collapsed": true
   },
   "outputs": [],
   "source": []
  },
  {
   "cell_type": "code",
   "execution_count": null,
   "metadata": {
    "collapsed": true
   },
   "outputs": [],
   "source": []
  },
  {
   "cell_type": "code",
   "execution_count": null,
   "metadata": {
    "collapsed": true
   },
   "outputs": [],
   "source": []
  }
 ],
 "metadata": {
  "kernelspec": {
   "display_name": "Python 3",
   "language": "python",
   "name": "python3"
  },
  "language_info": {
   "codemirror_mode": {
    "name": "ipython",
    "version": 3
   },
   "file_extension": ".py",
   "mimetype": "text/x-python",
   "name": "python",
   "nbconvert_exporter": "python",
   "pygments_lexer": "ipython3",
   "version": "3.6.0"
  }
 },
 "nbformat": 4,
 "nbformat_minor": 2
}
