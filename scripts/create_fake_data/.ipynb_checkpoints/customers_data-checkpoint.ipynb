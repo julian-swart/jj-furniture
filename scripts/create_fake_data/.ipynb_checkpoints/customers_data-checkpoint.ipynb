{
 "cells": [
  {
   "cell_type": "markdown",
   "metadata": {},
   "source": [
    "# Create Fake Customers Data"
   ]
  },
  {
   "cell_type": "raw",
   "metadata": {},
   "source": [
    "!pip install faker"
   ]
  },
  {
   "cell_type": "code",
   "execution_count": 1,
   "metadata": {},
   "outputs": [],
   "source": [
    "import pandas as pd\n",
    "import numpy as np\n",
    "from faker import Faker\n",
    "from sqlalchemy import create_engine\n",
    "#import sql_queries as sql\n",
    "import configparser\n",
    "import sys \n",
    "import os"
   ]
  },
  {
   "cell_type": "code",
   "execution_count": 2,
   "metadata": {},
   "outputs": [],
   "source": [
    "script_dir = os.path.abspath('')\n",
    "mymodule_dir = os.path.join( script_dir, '..', '..', 'database', 'table_setup' )\n",
    "sys.path.append( mymodule_dir )\n",
    "\n",
    "import sql_queries"
   ]
  },
  {
   "cell_type": "code",
   "execution_count": 4,
   "metadata": {},
   "outputs": [],
   "source": [
    "# =============================================================================\n",
    "# ### SQL CONNECTION\n",
    "# =============================================================================\n",
    "encoding = 'utf-16'\n",
    "\n",
    "config_file_path = os.path.join( script_dir, '..', '..', 'database', 'connection' )\n",
    "config_file_path += '/config.ini'\n",
    "config = configparser.ConfigParser()\n",
    "config.read(config_file_path, encoding = encoding)\n",
    "\n",
    "HOST=config.get('jj_furniture','host')\n",
    "USER=config.get('jj_furniture','user')   \n",
    "PASSWORD=config.get('jj_furniture','password')\n",
    "DATABASE=config.get('jj_furniture','database')\n",
    "\n",
    "try:\n",
    "    db_conn_string = 'postgres://{}:{}@{}/{}'.format(USER,PASSWORD,HOST,DATABASE)\n",
    "    db_engine = create_engine(db_conn_string)\n",
    "\n",
    "except Exception as e:\n",
    "    print(e)\n",
    "    \n",
    "   "
   ]
  },
  {
   "cell_type": "code",
   "execution_count": 5,
   "metadata": {},
   "outputs": [],
   "source": [
    "fake = Faker()"
   ]
  },
  {
   "cell_type": "code",
   "execution_count": 6,
   "metadata": {},
   "outputs": [],
   "source": [
    "store_type = ['Store', 'Web']\n",
    "\n",
    "customers = [\n",
    "    {'customer_id': x+1,\n",
    "     'first_name': fake.first_name(),\n",
    "     'last_name': fake.last_name(),\n",
    "     'email_address': fake.email(),\n",
    "     'dob': fake.date_between(start_date='-70y', end_date='-18y'),\n",
    "     'gender': fake.profile()['sex'],\n",
    "     'street_address': fake.street_address(),\n",
    "     'state': fake.random_element(elements = ('NC', 'SC', 'TN', 'FL', 'GA', 'MS', 'AL')),\n",
    "     'date_created': fake.date_between(start_date='-12y'),\n",
    "     'create_source': np.random.choice(store_type, p = [.8, .2]) # can give probability of selection to Store Type\n",
    "    }\n",
    "    for x in range(1000)]\n"
   ]
  },
  {
   "cell_type": "code",
   "execution_count": 7,
   "metadata": {},
   "outputs": [],
   "source": [
    "df_customers = pd.DataFrame(customers)"
   ]
  },
  {
   "cell_type": "code",
   "execution_count": 8,
   "metadata": {},
   "outputs": [
    {
     "data": {
      "text/html": [
       "<div>\n",
       "<style scoped>\n",
       "    .dataframe tbody tr th:only-of-type {\n",
       "        vertical-align: middle;\n",
       "    }\n",
       "\n",
       "    .dataframe tbody tr th {\n",
       "        vertical-align: top;\n",
       "    }\n",
       "\n",
       "    .dataframe thead th {\n",
       "        text-align: right;\n",
       "    }\n",
       "</style>\n",
       "<table border=\"1\" class=\"dataframe\">\n",
       "  <thead>\n",
       "    <tr style=\"text-align: right;\">\n",
       "      <th></th>\n",
       "      <th>create_source</th>\n",
       "      <th>customer_id</th>\n",
       "      <th>date_created</th>\n",
       "      <th>dob</th>\n",
       "      <th>email_address</th>\n",
       "      <th>first_name</th>\n",
       "      <th>gender</th>\n",
       "      <th>last_name</th>\n",
       "      <th>state</th>\n",
       "      <th>street_address</th>\n",
       "    </tr>\n",
       "  </thead>\n",
       "  <tbody>\n",
       "    <tr>\n",
       "      <th>0</th>\n",
       "      <td>Store</td>\n",
       "      <td>1</td>\n",
       "      <td>2011-06-06</td>\n",
       "      <td>1954-11-08</td>\n",
       "      <td>mccoychristopher@example.com</td>\n",
       "      <td>Lori</td>\n",
       "      <td>F</td>\n",
       "      <td>Lee</td>\n",
       "      <td>FL</td>\n",
       "      <td>7665 Walker Expressway Apt. 666</td>\n",
       "    </tr>\n",
       "    <tr>\n",
       "      <th>1</th>\n",
       "      <td>Store</td>\n",
       "      <td>2</td>\n",
       "      <td>2019-03-10</td>\n",
       "      <td>1971-06-07</td>\n",
       "      <td>brownbrian@example.net</td>\n",
       "      <td>Alyssa</td>\n",
       "      <td>M</td>\n",
       "      <td>Schmidt</td>\n",
       "      <td>FL</td>\n",
       "      <td>9902 Keith Mountain</td>\n",
       "    </tr>\n",
       "    <tr>\n",
       "      <th>2</th>\n",
       "      <td>Store</td>\n",
       "      <td>3</td>\n",
       "      <td>2018-05-06</td>\n",
       "      <td>1973-10-11</td>\n",
       "      <td>hughesjonathan@example.com</td>\n",
       "      <td>Noah</td>\n",
       "      <td>F</td>\n",
       "      <td>Glenn</td>\n",
       "      <td>FL</td>\n",
       "      <td>1482 Melinda Views</td>\n",
       "    </tr>\n",
       "    <tr>\n",
       "      <th>3</th>\n",
       "      <td>Web</td>\n",
       "      <td>4</td>\n",
       "      <td>2020-11-28</td>\n",
       "      <td>2000-06-18</td>\n",
       "      <td>williamsallen@example.com</td>\n",
       "      <td>Daniel</td>\n",
       "      <td>F</td>\n",
       "      <td>Carrillo</td>\n",
       "      <td>SC</td>\n",
       "      <td>120 Jack Avenue Apt. 028</td>\n",
       "    </tr>\n",
       "    <tr>\n",
       "      <th>4</th>\n",
       "      <td>Store</td>\n",
       "      <td>5</td>\n",
       "      <td>2018-09-04</td>\n",
       "      <td>1959-02-11</td>\n",
       "      <td>carolpowell@example.net</td>\n",
       "      <td>Shannon</td>\n",
       "      <td>M</td>\n",
       "      <td>Jackson</td>\n",
       "      <td>TN</td>\n",
       "      <td>96254 James Glens</td>\n",
       "    </tr>\n",
       "  </tbody>\n",
       "</table>\n",
       "</div>"
      ],
      "text/plain": [
       "  create_source  customer_id date_created         dob  \\\n",
       "0         Store            1   2011-06-06  1954-11-08   \n",
       "1         Store            2   2019-03-10  1971-06-07   \n",
       "2         Store            3   2018-05-06  1973-10-11   \n",
       "3           Web            4   2020-11-28  2000-06-18   \n",
       "4         Store            5   2018-09-04  1959-02-11   \n",
       "\n",
       "                  email_address first_name gender last_name state  \\\n",
       "0  mccoychristopher@example.com       Lori      F       Lee    FL   \n",
       "1        brownbrian@example.net     Alyssa      M   Schmidt    FL   \n",
       "2    hughesjonathan@example.com       Noah      F     Glenn    FL   \n",
       "3     williamsallen@example.com     Daniel      F  Carrillo    SC   \n",
       "4       carolpowell@example.net    Shannon      M   Jackson    TN   \n",
       "\n",
       "                    street_address  \n",
       "0  7665 Walker Expressway Apt. 666  \n",
       "1              9902 Keith Mountain  \n",
       "2               1482 Melinda Views  \n",
       "3         120 Jack Avenue Apt. 028  \n",
       "4                96254 James Glens  "
      ]
     },
     "execution_count": 8,
     "metadata": {},
     "output_type": "execute_result"
    }
   ],
   "source": [
    "df_customers.head() "
   ]
  },
  {
   "cell_type": "code",
   "execution_count": 9,
   "metadata": {},
   "outputs": [
    {
     "name": "stdout",
     "output_type": "stream",
     "text": [
      "\n",
      "INSERT INTO customers (customer_id, first_name, last_name, email_address, dob, gender, street_address, state, date_created, create_source)\n",
      "VALUES (%s, %s, %s, %s, %s, %s, %s, %s, %s, %s)\n",
      "\n"
     ]
    }
   ],
   "source": [
    "print(sql_queries.insert_customer_table)"
   ]
  },
  {
   "cell_type": "code",
   "execution_count": 10,
   "metadata": {},
   "outputs": [
    {
     "name": "stdout",
     "output_type": "stream",
     "text": [
      "0\n",
      "100\n",
      "200\n",
      "300\n",
      "400\n",
      "500\n",
      "600\n",
      "700\n",
      "800\n",
      "900\n"
     ]
    }
   ],
   "source": [
    "### insert customer records\n",
    "for i, row in df_customers.iterrows():\n",
    "    if i % 100 == 0:\n",
    "        print(i)\n",
    "    db_engine.execute(sql_queries.insert_customer_table, \n",
    "                        (row['customer_id'],\n",
    "                        row['first_name'],\n",
    "                        row['last_name'],\n",
    "                        row['email_address'],\n",
    "                        row['dob'],\n",
    "                        row['gender'],\n",
    "                        row['street_address'],\n",
    "                        row['state'],\n",
    "                        row['date_created'],\n",
    "                        row['create_source']))"
   ]
  },
  {
   "cell_type": "code",
   "execution_count": null,
   "metadata": {
    "collapsed": true
   },
   "outputs": [],
   "source": []
  },
  {
   "cell_type": "code",
   "execution_count": null,
   "metadata": {
    "collapsed": true
   },
   "outputs": [],
   "source": []
  },
  {
   "cell_type": "code",
   "execution_count": null,
   "metadata": {
    "collapsed": true
   },
   "outputs": [],
   "source": []
  },
  {
   "cell_type": "code",
   "execution_count": null,
   "metadata": {
    "collapsed": true
   },
   "outputs": [],
   "source": []
  },
  {
   "cell_type": "code",
   "execution_count": null,
   "metadata": {
    "collapsed": true
   },
   "outputs": [],
   "source": []
  },
  {
   "cell_type": "code",
   "execution_count": null,
   "metadata": {
    "collapsed": true
   },
   "outputs": [],
   "source": []
  },
  {
   "cell_type": "code",
   "execution_count": null,
   "metadata": {
    "collapsed": true
   },
   "outputs": [],
   "source": []
  },
  {
   "cell_type": "code",
   "execution_count": null,
   "metadata": {
    "collapsed": true
   },
   "outputs": [],
   "source": []
  },
  {
   "cell_type": "code",
   "execution_count": null,
   "metadata": {
    "collapsed": true
   },
   "outputs": [],
   "source": []
  },
  {
   "cell_type": "code",
   "execution_count": null,
   "metadata": {
    "collapsed": true
   },
   "outputs": [],
   "source": []
  },
  {
   "cell_type": "code",
   "execution_count": null,
   "metadata": {
    "collapsed": true
   },
   "outputs": [],
   "source": []
  },
  {
   "cell_type": "code",
   "execution_count": null,
   "metadata": {
    "collapsed": true
   },
   "outputs": [],
   "source": []
  },
  {
   "cell_type": "code",
   "execution_count": null,
   "metadata": {
    "collapsed": true
   },
   "outputs": [],
   "source": []
  },
  {
   "cell_type": "code",
   "execution_count": null,
   "metadata": {
    "collapsed": true
   },
   "outputs": [],
   "source": []
  },
  {
   "cell_type": "code",
   "execution_count": null,
   "metadata": {
    "collapsed": true
   },
   "outputs": [],
   "source": []
  },
  {
   "cell_type": "code",
   "execution_count": null,
   "metadata": {
    "collapsed": true
   },
   "outputs": [],
   "source": []
  },
  {
   "cell_type": "code",
   "execution_count": null,
   "metadata": {
    "collapsed": true
   },
   "outputs": [],
   "source": []
  },
  {
   "cell_type": "code",
   "execution_count": null,
   "metadata": {
    "collapsed": true
   },
   "outputs": [],
   "source": []
  },
  {
   "cell_type": "code",
   "execution_count": null,
   "metadata": {
    "collapsed": true
   },
   "outputs": [],
   "source": []
  },
  {
   "cell_type": "code",
   "execution_count": null,
   "metadata": {
    "collapsed": true
   },
   "outputs": [],
   "source": []
  },
  {
   "cell_type": "code",
   "execution_count": null,
   "metadata": {
    "collapsed": true
   },
   "outputs": [],
   "source": []
  },
  {
   "cell_type": "code",
   "execution_count": null,
   "metadata": {
    "collapsed": true
   },
   "outputs": [],
   "source": []
  },
  {
   "cell_type": "code",
   "execution_count": null,
   "metadata": {
    "collapsed": true
   },
   "outputs": [],
   "source": []
  },
  {
   "cell_type": "code",
   "execution_count": null,
   "metadata": {
    "collapsed": true
   },
   "outputs": [],
   "source": []
  },
  {
   "cell_type": "code",
   "execution_count": null,
   "metadata": {
    "collapsed": true
   },
   "outputs": [],
   "source": []
  },
  {
   "cell_type": "code",
   "execution_count": null,
   "metadata": {
    "collapsed": true
   },
   "outputs": [],
   "source": []
  },
  {
   "cell_type": "code",
   "execution_count": null,
   "metadata": {
    "collapsed": true
   },
   "outputs": [],
   "source": []
  },
  {
   "cell_type": "code",
   "execution_count": null,
   "metadata": {
    "collapsed": true
   },
   "outputs": [],
   "source": []
  },
  {
   "cell_type": "code",
   "execution_count": null,
   "metadata": {
    "collapsed": true
   },
   "outputs": [],
   "source": []
  },
  {
   "cell_type": "code",
   "execution_count": null,
   "metadata": {
    "collapsed": true
   },
   "outputs": [],
   "source": []
  },
  {
   "cell_type": "code",
   "execution_count": null,
   "metadata": {
    "collapsed": true
   },
   "outputs": [],
   "source": []
  },
  {
   "cell_type": "code",
   "execution_count": null,
   "metadata": {
    "collapsed": true
   },
   "outputs": [],
   "source": []
  },
  {
   "cell_type": "code",
   "execution_count": null,
   "metadata": {
    "collapsed": true
   },
   "outputs": [],
   "source": []
  },
  {
   "cell_type": "code",
   "execution_count": null,
   "metadata": {
    "collapsed": true
   },
   "outputs": [],
   "source": []
  },
  {
   "cell_type": "code",
   "execution_count": null,
   "metadata": {
    "collapsed": true
   },
   "outputs": [],
   "source": []
  },
  {
   "cell_type": "code",
   "execution_count": null,
   "metadata": {
    "collapsed": true
   },
   "outputs": [],
   "source": []
  },
  {
   "cell_type": "code",
   "execution_count": null,
   "metadata": {
    "collapsed": true
   },
   "outputs": [],
   "source": []
  },
  {
   "cell_type": "code",
   "execution_count": null,
   "metadata": {
    "collapsed": true
   },
   "outputs": [],
   "source": []
  },
  {
   "cell_type": "code",
   "execution_count": null,
   "metadata": {
    "collapsed": true
   },
   "outputs": [],
   "source": []
  },
  {
   "cell_type": "code",
   "execution_count": null,
   "metadata": {
    "collapsed": true
   },
   "outputs": [],
   "source": []
  },
  {
   "cell_type": "code",
   "execution_count": null,
   "metadata": {
    "collapsed": true
   },
   "outputs": [],
   "source": []
  },
  {
   "cell_type": "code",
   "execution_count": null,
   "metadata": {
    "collapsed": true
   },
   "outputs": [],
   "source": []
  },
  {
   "cell_type": "code",
   "execution_count": null,
   "metadata": {
    "collapsed": true
   },
   "outputs": [],
   "source": []
  },
  {
   "cell_type": "code",
   "execution_count": null,
   "metadata": {
    "collapsed": true
   },
   "outputs": [],
   "source": []
  },
  {
   "cell_type": "code",
   "execution_count": null,
   "metadata": {
    "collapsed": true
   },
   "outputs": [],
   "source": []
  },
  {
   "cell_type": "code",
   "execution_count": null,
   "metadata": {
    "collapsed": true
   },
   "outputs": [],
   "source": []
  },
  {
   "cell_type": "code",
   "execution_count": null,
   "metadata": {
    "collapsed": true
   },
   "outputs": [],
   "source": []
  },
  {
   "cell_type": "code",
   "execution_count": null,
   "metadata": {
    "collapsed": true
   },
   "outputs": [],
   "source": []
  },
  {
   "cell_type": "code",
   "execution_count": null,
   "metadata": {
    "collapsed": true
   },
   "outputs": [],
   "source": []
  },
  {
   "cell_type": "code",
   "execution_count": null,
   "metadata": {
    "collapsed": true
   },
   "outputs": [],
   "source": []
  },
  {
   "cell_type": "code",
   "execution_count": null,
   "metadata": {
    "collapsed": true
   },
   "outputs": [],
   "source": []
  },
  {
   "cell_type": "code",
   "execution_count": null,
   "metadata": {
    "collapsed": true
   },
   "outputs": [],
   "source": []
  },
  {
   "cell_type": "code",
   "execution_count": null,
   "metadata": {
    "collapsed": true
   },
   "outputs": [],
   "source": []
  }
 ],
 "metadata": {
  "kernelspec": {
   "display_name": "Python 3",
   "language": "python",
   "name": "python3"
  },
  "language_info": {
   "codemirror_mode": {
    "name": "ipython",
    "version": 3
   },
   "file_extension": ".py",
   "mimetype": "text/x-python",
   "name": "python",
   "nbconvert_exporter": "python",
   "pygments_lexer": "ipython3",
   "version": "3.6.8"
  }
 },
 "nbformat": 4,
 "nbformat_minor": 2
}
