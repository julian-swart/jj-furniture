{
 "cells": [
  {
   "cell_type": "code",
   "execution_count": 1,
   "metadata": {},
   "outputs": [
    {
     "data": {
      "text/html": [
       "<style>.container { width:75% !important; }</style>"
      ],
      "text/plain": [
       "<IPython.core.display.HTML object>"
      ]
     },
     "metadata": {},
     "output_type": "display_data"
    }
   ],
   "source": [
    "from IPython.display import display, HTML\n",
    "display(HTML(\"<style>.container { width:75% !important; }</style>\"))"
   ]
  },
  {
   "cell_type": "code",
   "execution_count": 25,
   "metadata": {},
   "outputs": [],
   "source": [
    "import pandas as pd\n",
    "import numpy as np\n",
    "from faker import Faker\n",
    "from sqlalchemy import create_engine\n",
    "#import sql_queries as sql\n",
    "import configparser\n",
    "import sys \n",
    "import os\n",
    "import datetime as dt\n",
    "from tqdm import tqdm"
   ]
  },
  {
   "cell_type": "code",
   "execution_count": 3,
   "metadata": {},
   "outputs": [],
   "source": [
    "script_dir = os.path.abspath('')\n",
    "mymodule_dir = os.path.join( script_dir, '..', '..', 'database', 'table_setup' )\n",
    "sys.path.append( mymodule_dir )\n",
    "\n",
    "import sql_queries"
   ]
  },
  {
   "cell_type": "code",
   "execution_count": 4,
   "metadata": {},
   "outputs": [],
   "source": [
    "# =============================================================================\n",
    "# ### SQL CONNECTION\n",
    "# =============================================================================\n",
    "encoding = 'utf-16'\n",
    "\n",
    "config_file_path = os.path.join( script_dir, '..', '..', 'database', 'connection' )\n",
    "config_file_path += '/config.ini'\n",
    "config = configparser.ConfigParser()\n",
    "config.read(config_file_path, encoding = encoding)\n",
    "\n",
    "HOST=config.get('jj_furniture','host')\n",
    "USER=config.get('jj_furniture','user')   \n",
    "PASSWORD=config.get('jj_furniture','password')\n",
    "DATABASE=config.get('jj_furniture','database')\n",
    "\n",
    "try:\n",
    "    db_conn_string = 'postgres://{}:{}@{}/{}'.format(USER,PASSWORD,HOST,DATABASE)\n",
    "    db_engine = create_engine(db_conn_string)\n",
    "\n",
    "except Exception as e:\n",
    "    print(e)"
   ]
  },
  {
   "cell_type": "code",
   "execution_count": 5,
   "metadata": {},
   "outputs": [],
   "source": [
    "fake = Faker()"
   ]
  },
  {
   "cell_type": "code",
   "execution_count": 6,
   "metadata": {},
   "outputs": [],
   "source": [
    "def get_ids(table_name):\n",
    "    query = '''\n",
    "    SELECT {}_id\n",
    "    FROM {}\n",
    "    '''\n",
    "\n",
    "    results = db_engine.execute(query.format(table_name[:-1], table_name)).fetchall()\n",
    "    return [id for id, in results]"
   ]
  },
  {
   "cell_type": "code",
   "execution_count": 7,
   "metadata": {},
   "outputs": [],
   "source": [
    "def get_cost(product):\n",
    "    query = '''\n",
    "    SELECT cost\n",
    "    FROM products\n",
    "    WHERE product_id = {}\n",
    "    '''\n",
    "    \n",
    "    return float(db_engine.execute(query.format(product)).fetchone()[0])"
   ]
  },
  {
   "cell_type": "code",
   "execution_count": 8,
   "metadata": {},
   "outputs": [],
   "source": [
    "customer_id_list = get_ids('customers')\n",
    "product_id_list = get_ids('products')"
   ]
  },
  {
   "cell_type": "code",
   "execution_count": 26,
   "metadata": {},
   "outputs": [
    {
     "name": "stderr",
     "output_type": "stream",
     "text": [
      "100%|██████████| 100/100 [01:15<00:00,  1.38it/s]\n"
     ]
    }
   ],
   "source": [
    "num_trans = 100\n",
    "transaction_id = 1\n",
    "years = list(range(2010, 2023))\n",
    "weights = list(range(1, len(years) + 1))\n",
    "weights = [x/sum(weights) for x in weights]\n",
    "\n",
    "for trans in tqdm(range(num_trans)):\n",
    "    \n",
    "    num_items = np.random.randint(low = 1, high = 5)\n",
    "    year = np.random.choice(years, size = None, p = weights)\n",
    "    transaction_date = fake.date_between_dates(date_start = dt.datetime.strptime(str(year) + '-01-01', '%Y-%m-%d'), date_end = dt.datetime.strptime(str(year) + '-12-31', '%Y-%m-%d'))\n",
    "    customer_id = np.random.choice(customer_id_list).item()\n",
    "    \n",
    "    for item in range(num_items): \n",
    "        \n",
    "        product_id = np.random.choice(product_id_list).item()\n",
    "        line_item_number = item + 1\n",
    "        sale_or_return = 0\n",
    "        \n",
    "        sale_amount = round(get_cost(product_id) * np.random.uniform(low = 1.43, high = 4), 2)\n",
    "        quantity = np.random.choice([1,2,3], p = [.8, .15, .05]).item()\n",
    "        \n",
    "        db_engine.execute(sql_queries.insert_transactions_table,\n",
    "                          transaction_id,\n",
    "                          transaction_date,\n",
    "                          customer_id,\n",
    "                          product_id,\n",
    "                          line_item_number,\n",
    "                          sale_amount,\n",
    "                          quantity,\n",
    "                          sale_or_return)\n",
    "                          \n",
    "    transaction_id += 1                         "
   ]
  },
  {
   "cell_type": "code",
   "execution_count": null,
   "metadata": {},
   "outputs": [],
   "source": []
  },
  {
   "cell_type": "code",
   "execution_count": null,
   "metadata": {},
   "outputs": [],
   "source": []
  },
  {
   "cell_type": "code",
   "execution_count": null,
   "metadata": {},
   "outputs": [],
   "source": []
  },
  {
   "cell_type": "code",
   "execution_count": null,
   "metadata": {},
   "outputs": [],
   "source": []
  },
  {
   "cell_type": "code",
   "execution_count": null,
   "metadata": {},
   "outputs": [],
   "source": []
  },
  {
   "cell_type": "code",
   "execution_count": null,
   "metadata": {},
   "outputs": [],
   "source": []
  },
  {
   "cell_type": "code",
   "execution_count": null,
   "metadata": {},
   "outputs": [],
   "source": []
  },
  {
   "cell_type": "code",
   "execution_count": null,
   "metadata": {},
   "outputs": [],
   "source": []
  },
  {
   "cell_type": "code",
   "execution_count": null,
   "metadata": {},
   "outputs": [],
   "source": []
  },
  {
   "cell_type": "code",
   "execution_count": null,
   "metadata": {},
   "outputs": [],
   "source": []
  },
  {
   "cell_type": "code",
   "execution_count": null,
   "metadata": {},
   "outputs": [],
   "source": []
  },
  {
   "cell_type": "code",
   "execution_count": null,
   "metadata": {},
   "outputs": [],
   "source": []
  },
  {
   "cell_type": "code",
   "execution_count": null,
   "metadata": {},
   "outputs": [],
   "source": []
  },
  {
   "cell_type": "code",
   "execution_count": null,
   "metadata": {},
   "outputs": [],
   "source": []
  },
  {
   "cell_type": "code",
   "execution_count": null,
   "metadata": {},
   "outputs": [],
   "source": []
  },
  {
   "cell_type": "code",
   "execution_count": null,
   "metadata": {},
   "outputs": [],
   "source": []
  },
  {
   "cell_type": "code",
   "execution_count": null,
   "metadata": {},
   "outputs": [],
   "source": []
  },
  {
   "cell_type": "code",
   "execution_count": null,
   "metadata": {},
   "outputs": [],
   "source": []
  },
  {
   "cell_type": "code",
   "execution_count": null,
   "metadata": {},
   "outputs": [],
   "source": []
  },
  {
   "cell_type": "code",
   "execution_count": null,
   "metadata": {},
   "outputs": [],
   "source": []
  },
  {
   "cell_type": "code",
   "execution_count": null,
   "metadata": {},
   "outputs": [],
   "source": []
  },
  {
   "cell_type": "code",
   "execution_count": null,
   "metadata": {},
   "outputs": [],
   "source": []
  },
  {
   "cell_type": "code",
   "execution_count": null,
   "metadata": {},
   "outputs": [],
   "source": []
  }
 ],
 "metadata": {
  "kernelspec": {
   "display_name": "Python 3",
   "language": "python",
   "name": "python3"
  },
  "language_info": {
   "codemirror_mode": {
    "name": "ipython",
    "version": 3
   },
   "file_extension": ".py",
   "mimetype": "text/x-python",
   "name": "python",
   "nbconvert_exporter": "python",
   "pygments_lexer": "ipython3",
   "version": "3.6.8"
  }
 },
 "nbformat": 4,
 "nbformat_minor": 2
}
